{
  "nbformat": 4,
  "nbformat_minor": 0,
  "metadata": {
    "colab": {
      "name": "LinearRegression.ipynb",
      "provenance": [],
      "collapsed_sections": [],
      "authorship_tag": "ABX9TyNJHTT/Jqz4pt3NNtGF6ono",
      "include_colab_link": true
    },
    "kernelspec": {
      "name": "python3",
      "display_name": "Python 3"
    }
  },
  "cells": [
    {
      "cell_type": "markdown",
      "metadata": {
        "id": "view-in-github",
        "colab_type": "text"
      },
      "source": [
        "<a href=\"https://colab.research.google.com/github/sidchaubey/ml_algo-from-Scratch/blob/master/LinearRegression.ipynb\" target=\"_parent\"><img src=\"https://colab.research.google.com/assets/colab-badge.svg\" alt=\"Open In Colab\"/></a>"
      ]
    },
    {
      "cell_type": "code",
      "metadata": {
        "id": "3CvD4V0wqQ-Z",
        "colab_type": "code",
        "colab": {
          "base_uri": "https://localhost:8080/",
          "height": 263
        },
        "outputId": "9ab4cdf5-d946-4d20-9867-5f5671019110"
      },
      "source": [
        "!pip install Quandl\n"
      ],
      "execution_count": 1,
      "outputs": [
        {
          "output_type": "stream",
          "text": [
            "Requirement already satisfied: Quandl in /usr/local/lib/python3.6/dist-packages (3.5.0)\n",
            "Requirement already satisfied: requests>=2.7.0 in /usr/local/lib/python3.6/dist-packages (from Quandl) (2.23.0)\n",
            "Requirement already satisfied: numpy>=1.8 in /usr/local/lib/python3.6/dist-packages (from Quandl) (1.18.4)\n",
            "Requirement already satisfied: pandas>=0.14 in /usr/local/lib/python3.6/dist-packages (from Quandl) (1.0.3)\n",
            "Requirement already satisfied: six in /usr/local/lib/python3.6/dist-packages (from Quandl) (1.12.0)\n",
            "Requirement already satisfied: more-itertools in /usr/local/lib/python3.6/dist-packages (from Quandl) (8.2.0)\n",
            "Requirement already satisfied: inflection>=0.3.1 in /usr/local/lib/python3.6/dist-packages (from Quandl) (0.4.0)\n",
            "Requirement already satisfied: python-dateutil in /usr/local/lib/python3.6/dist-packages (from Quandl) (2.8.1)\n",
            "Requirement already satisfied: certifi>=2017.4.17 in /usr/local/lib/python3.6/dist-packages (from requests>=2.7.0->Quandl) (2020.4.5.1)\n",
            "Requirement already satisfied: urllib3!=1.25.0,!=1.25.1,<1.26,>=1.21.1 in /usr/local/lib/python3.6/dist-packages (from requests>=2.7.0->Quandl) (1.24.3)\n",
            "Requirement already satisfied: idna<3,>=2.5 in /usr/local/lib/python3.6/dist-packages (from requests>=2.7.0->Quandl) (2.9)\n",
            "Requirement already satisfied: chardet<4,>=3.0.2 in /usr/local/lib/python3.6/dist-packages (from requests>=2.7.0->Quandl) (3.0.4)\n",
            "Requirement already satisfied: pytz>=2017.2 in /usr/local/lib/python3.6/dist-packages (from pandas>=0.14->Quandl) (2018.9)\n"
          ],
          "name": "stdout"
        }
      ]
    },
    {
      "cell_type": "code",
      "metadata": {
        "id": "005_gB9_qY2l",
        "colab_type": "code",
        "colab": {
          "base_uri": "https://localhost:8080/",
          "height": 357
        },
        "outputId": "aaa0f935-9af9-4b5d-b81a-41b4db004e61"
      },
      "source": [
        "import pandas as pd\n",
        "import quandl\n",
        "quandl.ApiConfig.api_key = 'g8x5jz6txr_PLTFfF_'# Changed api\n",
        "df = quandl.get(\"WIKI/GOOGL\")\n",
        "df.head()"
      ],
      "execution_count": 2,
      "outputs": [
        {
          "output_type": "execute_result",
          "data": {
            "text/html": [
              "<div>\n",
              "<style scoped>\n",
              "    .dataframe tbody tr th:only-of-type {\n",
              "        vertical-align: middle;\n",
              "    }\n",
              "\n",
              "    .dataframe tbody tr th {\n",
              "        vertical-align: top;\n",
              "    }\n",
              "\n",
              "    .dataframe thead th {\n",
              "        text-align: right;\n",
              "    }\n",
              "</style>\n",
              "<table border=\"1\" class=\"dataframe\">\n",
              "  <thead>\n",
              "    <tr style=\"text-align: right;\">\n",
              "      <th></th>\n",
              "      <th>Open</th>\n",
              "      <th>High</th>\n",
              "      <th>Low</th>\n",
              "      <th>Close</th>\n",
              "      <th>Volume</th>\n",
              "      <th>Ex-Dividend</th>\n",
              "      <th>Split Ratio</th>\n",
              "      <th>Adj. Open</th>\n",
              "      <th>Adj. High</th>\n",
              "      <th>Adj. Low</th>\n",
              "      <th>Adj. Close</th>\n",
              "      <th>Adj. Volume</th>\n",
              "    </tr>\n",
              "    <tr>\n",
              "      <th>Date</th>\n",
              "      <th></th>\n",
              "      <th></th>\n",
              "      <th></th>\n",
              "      <th></th>\n",
              "      <th></th>\n",
              "      <th></th>\n",
              "      <th></th>\n",
              "      <th></th>\n",
              "      <th></th>\n",
              "      <th></th>\n",
              "      <th></th>\n",
              "      <th></th>\n",
              "    </tr>\n",
              "  </thead>\n",
              "  <tbody>\n",
              "    <tr>\n",
              "      <th>2004-08-19</th>\n",
              "      <td>100.01</td>\n",
              "      <td>104.06</td>\n",
              "      <td>95.96</td>\n",
              "      <td>100.335</td>\n",
              "      <td>44659000.0</td>\n",
              "      <td>0.0</td>\n",
              "      <td>1.0</td>\n",
              "      <td>50.159839</td>\n",
              "      <td>52.191109</td>\n",
              "      <td>48.128568</td>\n",
              "      <td>50.322842</td>\n",
              "      <td>44659000.0</td>\n",
              "    </tr>\n",
              "    <tr>\n",
              "      <th>2004-08-20</th>\n",
              "      <td>101.01</td>\n",
              "      <td>109.08</td>\n",
              "      <td>100.50</td>\n",
              "      <td>108.310</td>\n",
              "      <td>22834300.0</td>\n",
              "      <td>0.0</td>\n",
              "      <td>1.0</td>\n",
              "      <td>50.661387</td>\n",
              "      <td>54.708881</td>\n",
              "      <td>50.405597</td>\n",
              "      <td>54.322689</td>\n",
              "      <td>22834300.0</td>\n",
              "    </tr>\n",
              "    <tr>\n",
              "      <th>2004-08-23</th>\n",
              "      <td>110.76</td>\n",
              "      <td>113.48</td>\n",
              "      <td>109.05</td>\n",
              "      <td>109.400</td>\n",
              "      <td>18256100.0</td>\n",
              "      <td>0.0</td>\n",
              "      <td>1.0</td>\n",
              "      <td>55.551482</td>\n",
              "      <td>56.915693</td>\n",
              "      <td>54.693835</td>\n",
              "      <td>54.869377</td>\n",
              "      <td>18256100.0</td>\n",
              "    </tr>\n",
              "    <tr>\n",
              "      <th>2004-08-24</th>\n",
              "      <td>111.24</td>\n",
              "      <td>111.60</td>\n",
              "      <td>103.57</td>\n",
              "      <td>104.870</td>\n",
              "      <td>15247300.0</td>\n",
              "      <td>0.0</td>\n",
              "      <td>1.0</td>\n",
              "      <td>55.792225</td>\n",
              "      <td>55.972783</td>\n",
              "      <td>51.945350</td>\n",
              "      <td>52.597363</td>\n",
              "      <td>15247300.0</td>\n",
              "    </tr>\n",
              "    <tr>\n",
              "      <th>2004-08-25</th>\n",
              "      <td>104.76</td>\n",
              "      <td>108.00</td>\n",
              "      <td>103.88</td>\n",
              "      <td>106.000</td>\n",
              "      <td>9188600.0</td>\n",
              "      <td>0.0</td>\n",
              "      <td>1.0</td>\n",
              "      <td>52.542193</td>\n",
              "      <td>54.167209</td>\n",
              "      <td>52.100830</td>\n",
              "      <td>53.164113</td>\n",
              "      <td>9188600.0</td>\n",
              "    </tr>\n",
              "  </tbody>\n",
              "</table>\n",
              "</div>"
            ],
            "text/plain": [
              "              Open    High     Low  ...   Adj. Low  Adj. Close  Adj. Volume\n",
              "Date                                ...                                    \n",
              "2004-08-19  100.01  104.06   95.96  ...  48.128568   50.322842   44659000.0\n",
              "2004-08-20  101.01  109.08  100.50  ...  50.405597   54.322689   22834300.0\n",
              "2004-08-23  110.76  113.48  109.05  ...  54.693835   54.869377   18256100.0\n",
              "2004-08-24  111.24  111.60  103.57  ...  51.945350   52.597363   15247300.0\n",
              "2004-08-25  104.76  108.00  103.88  ...  52.100830   53.164113    9188600.0\n",
              "\n",
              "[5 rows x 12 columns]"
            ]
          },
          "metadata": {
            "tags": []
          },
          "execution_count": 2
        }
      ]
    },
    {
      "cell_type": "code",
      "metadata": {
        "id": "ZtWNWmV3qdHp",
        "colab_type": "code",
        "colab": {
          "base_uri": "https://localhost:8080/",
          "height": 35
        },
        "outputId": "4497f949-990e-40d4-8c42-84cdef86140f"
      },
      "source": [
        "df.shape"
      ],
      "execution_count": 3,
      "outputs": [
        {
          "output_type": "execute_result",
          "data": {
            "text/plain": [
              "(3424, 12)"
            ]
          },
          "metadata": {
            "tags": []
          },
          "execution_count": 3
        }
      ]
    },
    {
      "cell_type": "code",
      "metadata": {
        "id": "0Z9OmL-1vSpi",
        "colab_type": "code",
        "colab": {
          "base_uri": "https://localhost:8080/",
          "height": 243
        },
        "outputId": "a68b4870-d9ca-4aee-ba57-5814582e3a68"
      },
      "source": [
        "df.isna().sum()"
      ],
      "execution_count": 4,
      "outputs": [
        {
          "output_type": "execute_result",
          "data": {
            "text/plain": [
              "Open           0\n",
              "High           0\n",
              "Low            0\n",
              "Close          0\n",
              "Volume         0\n",
              "Ex-Dividend    0\n",
              "Split Ratio    0\n",
              "Adj. Open      0\n",
              "Adj. High      0\n",
              "Adj. Low       0\n",
              "Adj. Close     0\n",
              "Adj. Volume    0\n",
              "dtype: int64"
            ]
          },
          "metadata": {
            "tags": []
          },
          "execution_count": 4
        }
      ]
    },
    {
      "cell_type": "code",
      "metadata": {
        "id": "qIwvnv9svYvn",
        "colab_type": "code",
        "colab": {
          "base_uri": "https://localhost:8080/",
          "height": 225
        },
        "outputId": "d2a20e61-a545-4729-ab33-1328aca3b7aa"
      },
      "source": [
        "df[\"Volume\"].value_counts()"
      ],
      "execution_count": 5,
      "outputs": [
        {
          "output_type": "execute_result",
          "data": {
            "text/plain": [
              "3865500.0     2\n",
              "3480500.0     2\n",
              "7827300.0     2\n",
              "3348800.0     2\n",
              "4229700.0     2\n",
              "             ..\n",
              "18782900.0    1\n",
              "16076100.0    1\n",
              "35468200.0    1\n",
              "4630100.0     1\n",
              "4096000.0     1\n",
              "Name: Volume, Length: 3396, dtype: int64"
            ]
          },
          "metadata": {
            "tags": []
          },
          "execution_count": 5
        }
      ]
    },
    {
      "cell_type": "code",
      "metadata": {
        "id": "lMHG5lI6vpKk",
        "colab_type": "code",
        "colab": {
          "base_uri": "https://localhost:8080/",
          "height": 69
        },
        "outputId": "72ea0121-4afd-4c95-9dc7-810d673afc76"
      },
      "source": [
        "df.columns"
      ],
      "execution_count": 6,
      "outputs": [
        {
          "output_type": "execute_result",
          "data": {
            "text/plain": [
              "Index(['Open', 'High', 'Low', 'Close', 'Volume', 'Ex-Dividend', 'Split Ratio',\n",
              "       'Adj. Open', 'Adj. High', 'Adj. Low', 'Adj. Close', 'Adj. Volume'],\n",
              "      dtype='object')"
            ]
          },
          "metadata": {
            "tags": []
          },
          "execution_count": 6
        }
      ]
    },
    {
      "cell_type": "code",
      "metadata": {
        "id": "ZkGKr8u1wB3r",
        "colab_type": "code",
        "colab": {
          "base_uri": "https://localhost:8080/",
          "height": 331
        },
        "outputId": "3bf916f6-fcb8-4477-fc98-146a6d5597ff"
      },
      "source": [
        "df.describe()"
      ],
      "execution_count": 7,
      "outputs": [
        {
          "output_type": "execute_result",
          "data": {
            "text/html": [
              "<div>\n",
              "<style scoped>\n",
              "    .dataframe tbody tr th:only-of-type {\n",
              "        vertical-align: middle;\n",
              "    }\n",
              "\n",
              "    .dataframe tbody tr th {\n",
              "        vertical-align: top;\n",
              "    }\n",
              "\n",
              "    .dataframe thead th {\n",
              "        text-align: right;\n",
              "    }\n",
              "</style>\n",
              "<table border=\"1\" class=\"dataframe\">\n",
              "  <thead>\n",
              "    <tr style=\"text-align: right;\">\n",
              "      <th></th>\n",
              "      <th>Open</th>\n",
              "      <th>High</th>\n",
              "      <th>Low</th>\n",
              "      <th>Close</th>\n",
              "      <th>Volume</th>\n",
              "      <th>Ex-Dividend</th>\n",
              "      <th>Split Ratio</th>\n",
              "      <th>Adj. Open</th>\n",
              "      <th>Adj. High</th>\n",
              "      <th>Adj. Low</th>\n",
              "      <th>Adj. Close</th>\n",
              "      <th>Adj. Volume</th>\n",
              "    </tr>\n",
              "  </thead>\n",
              "  <tbody>\n",
              "    <tr>\n",
              "      <th>count</th>\n",
              "      <td>3424.000000</td>\n",
              "      <td>3424.000000</td>\n",
              "      <td>3424.000000</td>\n",
              "      <td>3424.000000</td>\n",
              "      <td>3.424000e+03</td>\n",
              "      <td>3424.000000</td>\n",
              "      <td>3424.0</td>\n",
              "      <td>3424.000000</td>\n",
              "      <td>3424.000000</td>\n",
              "      <td>3424.000000</td>\n",
              "      <td>3424.000000</td>\n",
              "      <td>3.424000e+03</td>\n",
              "    </tr>\n",
              "    <tr>\n",
              "      <th>mean</th>\n",
              "      <td>596.602610</td>\n",
              "      <td>602.045438</td>\n",
              "      <td>590.571710</td>\n",
              "      <td>596.352862</td>\n",
              "      <td>7.818568e+06</td>\n",
              "      <td>0.165880</td>\n",
              "      <td>1.0</td>\n",
              "      <td>409.221461</td>\n",
              "      <td>412.786556</td>\n",
              "      <td>405.227809</td>\n",
              "      <td>409.057885</td>\n",
              "      <td>7.818568e+06</td>\n",
              "    </tr>\n",
              "    <tr>\n",
              "      <th>std</th>\n",
              "      <td>226.989782</td>\n",
              "      <td>227.783310</td>\n",
              "      <td>225.846581</td>\n",
              "      <td>226.896692</td>\n",
              "      <td>8.248211e+06</td>\n",
              "      <td>9.706436</td>\n",
              "      <td>0.0</td>\n",
              "      <td>257.844081</td>\n",
              "      <td>259.366718</td>\n",
              "      <td>255.981628</td>\n",
              "      <td>257.773495</td>\n",
              "      <td>8.248211e+06</td>\n",
              "    </tr>\n",
              "    <tr>\n",
              "      <th>min</th>\n",
              "      <td>99.090000</td>\n",
              "      <td>101.740000</td>\n",
              "      <td>95.960000</td>\n",
              "      <td>100.010000</td>\n",
              "      <td>5.211410e+05</td>\n",
              "      <td>0.000000</td>\n",
              "      <td>1.0</td>\n",
              "      <td>49.698414</td>\n",
              "      <td>51.027517</td>\n",
              "      <td>48.128568</td>\n",
              "      <td>50.159839</td>\n",
              "      <td>5.211410e+05</td>\n",
              "    </tr>\n",
              "    <tr>\n",
              "      <th>25%</th>\n",
              "      <td>461.157500</td>\n",
              "      <td>465.392500</td>\n",
              "      <td>456.065000</td>\n",
              "      <td>461.205000</td>\n",
              "      <td>2.430647e+06</td>\n",
              "      <td>0.000000</td>\n",
              "      <td>1.0</td>\n",
              "      <td>231.292728</td>\n",
              "      <td>233.416785</td>\n",
              "      <td>228.738594</td>\n",
              "      <td>231.316552</td>\n",
              "      <td>2.430647e+06</td>\n",
              "    </tr>\n",
              "    <tr>\n",
              "      <th>50%</th>\n",
              "      <td>565.120000</td>\n",
              "      <td>569.599950</td>\n",
              "      <td>559.860000</td>\n",
              "      <td>564.940000</td>\n",
              "      <td>5.076200e+06</td>\n",
              "      <td>0.000000</td>\n",
              "      <td>1.0</td>\n",
              "      <td>300.174109</td>\n",
              "      <td>302.496277</td>\n",
              "      <td>297.909618</td>\n",
              "      <td>300.264387</td>\n",
              "      <td>5.076200e+06</td>\n",
              "    </tr>\n",
              "    <tr>\n",
              "      <th>75%</th>\n",
              "      <td>735.627500</td>\n",
              "      <td>740.850000</td>\n",
              "      <td>728.680025</td>\n",
              "      <td>733.262500</td>\n",
              "      <td>1.020910e+07</td>\n",
              "      <td>0.000000</td>\n",
              "      <td>1.0</td>\n",
              "      <td>561.178118</td>\n",
              "      <td>565.000000</td>\n",
              "      <td>556.673036</td>\n",
              "      <td>561.200000</td>\n",
              "      <td>1.020910e+07</td>\n",
              "    </tr>\n",
              "    <tr>\n",
              "      <th>max</th>\n",
              "      <td>1226.800000</td>\n",
              "      <td>1228.880000</td>\n",
              "      <td>1218.600000</td>\n",
              "      <td>1220.170000</td>\n",
              "      <td>8.215110e+07</td>\n",
              "      <td>567.971668</td>\n",
              "      <td>1.0</td>\n",
              "      <td>1188.000000</td>\n",
              "      <td>1198.000000</td>\n",
              "      <td>1184.060000</td>\n",
              "      <td>1187.560000</td>\n",
              "      <td>8.215110e+07</td>\n",
              "    </tr>\n",
              "  </tbody>\n",
              "</table>\n",
              "</div>"
            ],
            "text/plain": [
              "              Open         High  ...   Adj. Close   Adj. Volume\n",
              "count  3424.000000  3424.000000  ...  3424.000000  3.424000e+03\n",
              "mean    596.602610   602.045438  ...   409.057885  7.818568e+06\n",
              "std     226.989782   227.783310  ...   257.773495  8.248211e+06\n",
              "min      99.090000   101.740000  ...    50.159839  5.211410e+05\n",
              "25%     461.157500   465.392500  ...   231.316552  2.430647e+06\n",
              "50%     565.120000   569.599950  ...   300.264387  5.076200e+06\n",
              "75%     735.627500   740.850000  ...   561.200000  1.020910e+07\n",
              "max    1226.800000  1228.880000  ...  1187.560000  8.215110e+07\n",
              "\n",
              "[8 rows x 12 columns]"
            ]
          },
          "metadata": {
            "tags": []
          },
          "execution_count": 7
        }
      ]
    },
    {
      "cell_type": "code",
      "metadata": {
        "id": "F8ufL3mgwV7Q",
        "colab_type": "code",
        "colab": {
          "base_uri": "https://localhost:8080/",
          "height": 347
        },
        "outputId": "8bd012dd-01c9-45fb-fe59-be5eea423e30"
      },
      "source": [
        "df.info()"
      ],
      "execution_count": 8,
      "outputs": [
        {
          "output_type": "stream",
          "text": [
            "<class 'pandas.core.frame.DataFrame'>\n",
            "DatetimeIndex: 3424 entries, 2004-08-19 to 2018-03-27\n",
            "Data columns (total 12 columns):\n",
            " #   Column       Non-Null Count  Dtype  \n",
            "---  ------       --------------  -----  \n",
            " 0   Open         3424 non-null   float64\n",
            " 1   High         3424 non-null   float64\n",
            " 2   Low          3424 non-null   float64\n",
            " 3   Close        3424 non-null   float64\n",
            " 4   Volume       3424 non-null   float64\n",
            " 5   Ex-Dividend  3424 non-null   float64\n",
            " 6   Split Ratio  3424 non-null   float64\n",
            " 7   Adj. Open    3424 non-null   float64\n",
            " 8   Adj. High    3424 non-null   float64\n",
            " 9   Adj. Low     3424 non-null   float64\n",
            " 10  Adj. Close   3424 non-null   float64\n",
            " 11  Adj. Volume  3424 non-null   float64\n",
            "dtypes: float64(12)\n",
            "memory usage: 347.8 KB\n"
          ],
          "name": "stdout"
        }
      ]
    },
    {
      "cell_type": "markdown",
      "metadata": {
        "id": "fn867-cU1QGK",
        "colab_type": "text"
      },
      "source": [
        "##### As all the columns are of float data type we can easily run regression model\n"
      ]
    },
    {
      "cell_type": "code",
      "metadata": {
        "id": "JnaVvZOFyfuX",
        "colab_type": "code",
        "colab": {
          "base_uri": "https://localhost:8080/",
          "height": 620
        },
        "outputId": "8d86c563-acc7-4d30-c1b6-a68ff89edba3"
      },
      "source": [
        "df.hist(figsize=(10,10));"
      ],
      "execution_count": 9,
      "outputs": [
        {
          "output_type": "display_data",
          "data": {
            "image/png": "[encoded data removed]",
            "text/plain": [
              "<Figure size 720x720 with 12 Axes>"
            ]
          },
          "metadata": {
            "tags": [],
            "needs_background": "light"
          }
        }
      ]
    },
    {
      "cell_type": "code",
      "metadata": {
        "id": "2dvDXK3217q5",
        "colab_type": "code",
        "colab": {}
      },
      "source": [
        "df = df[['Adj. Open', 'Adj. High', 'Adj. Low', 'Adj. Close', 'Adj. Volume']]"
      ],
      "execution_count": 0,
      "outputs": []
    },
    {
      "cell_type": "code",
      "metadata": {
        "id": "hZc8bbm42lMj",
        "colab_type": "code",
        "colab": {
          "base_uri": "https://localhost:8080/",
          "height": 233
        },
        "outputId": "11f12702-5f3c-4407-b564-7d56b54f4533"
      },
      "source": [
        "df.head()"
      ],
      "execution_count": 11,
      "outputs": [
        {
          "output_type": "execute_result",
          "data": {
            "text/html": [
              "<div>\n",
              "<style scoped>\n",
              "    .dataframe tbody tr th:only-of-type {\n",
              "        vertical-align: middle;\n",
              "    }\n",
              "\n",
              "    .dataframe tbody tr th {\n",
              "        vertical-align: top;\n",
              "    }\n",
              "\n",
              "    .dataframe thead th {\n",
              "        text-align: right;\n",
              "    }\n",
              "</style>\n",
              "<table border=\"1\" class=\"dataframe\">\n",
              "  <thead>\n",
              "    <tr style=\"text-align: right;\">\n",
              "      <th></th>\n",
              "      <th>Adj. Open</th>\n",
              "      <th>Adj. High</th>\n",
              "      <th>Adj. Low</th>\n",
              "      <th>Adj. Close</th>\n",
              "      <th>Adj. Volume</th>\n",
              "    </tr>\n",
              "    <tr>\n",
              "      <th>Date</th>\n",
              "      <th></th>\n",
              "      <th></th>\n",
              "      <th></th>\n",
              "      <th></th>\n",
              "      <th></th>\n",
              "    </tr>\n",
              "  </thead>\n",
              "  <tbody>\n",
              "    <tr>\n",
              "      <th>2004-08-19</th>\n",
              "      <td>50.159839</td>\n",
              "      <td>52.191109</td>\n",
              "      <td>48.128568</td>\n",
              "      <td>50.322842</td>\n",
              "      <td>44659000.0</td>\n",
              "    </tr>\n",
              "    <tr>\n",
              "      <th>2004-08-20</th>\n",
              "      <td>50.661387</td>\n",
              "      <td>54.708881</td>\n",
              "      <td>50.405597</td>\n",
              "      <td>54.322689</td>\n",
              "      <td>22834300.0</td>\n",
              "    </tr>\n",
              "    <tr>\n",
              "      <th>2004-08-23</th>\n",
              "      <td>55.551482</td>\n",
              "      <td>56.915693</td>\n",
              "      <td>54.693835</td>\n",
              "      <td>54.869377</td>\n",
              "      <td>18256100.0</td>\n",
              "    </tr>\n",
              "    <tr>\n",
              "      <th>2004-08-24</th>\n",
              "      <td>55.792225</td>\n",
              "      <td>55.972783</td>\n",
              "      <td>51.945350</td>\n",
              "      <td>52.597363</td>\n",
              "      <td>15247300.0</td>\n",
              "    </tr>\n",
              "    <tr>\n",
              "      <th>2004-08-25</th>\n",
              "      <td>52.542193</td>\n",
              "      <td>54.167209</td>\n",
              "      <td>52.100830</td>\n",
              "      <td>53.164113</td>\n",
              "      <td>9188600.0</td>\n",
              "    </tr>\n",
              "  </tbody>\n",
              "</table>\n",
              "</div>"
            ],
            "text/plain": [
              "            Adj. Open  Adj. High   Adj. Low  Adj. Close  Adj. Volume\n",
              "Date                                                                \n",
              "2004-08-19  50.159839  52.191109  48.128568   50.322842   44659000.0\n",
              "2004-08-20  50.661387  54.708881  50.405597   54.322689   22834300.0\n",
              "2004-08-23  55.551482  56.915693  54.693835   54.869377   18256100.0\n",
              "2004-08-24  55.792225  55.972783  51.945350   52.597363   15247300.0\n",
              "2004-08-25  52.542193  54.167209  52.100830   53.164113    9188600.0"
            ]
          },
          "metadata": {
            "tags": []
          },
          "execution_count": 11
        }
      ]
    },
    {
      "cell_type": "code",
      "metadata": {
        "id": "1BgKrvP_2m1l",
        "colab_type": "code",
        "colab": {}
      },
      "source": [
        "df[\"HL_PCT\"] = (df[\"Adj. High\"]-df[\"Adj. Close\"])/df[\"Adj. Close\"]*100.0\n",
        "df[\"PCT_change\"] = (df[\"Adj. Close\"]-df[\"Adj. High\"])/df[\"Adj. Open\"]*100.0\n"
      ],
      "execution_count": 0,
      "outputs": []
    },
    {
      "cell_type": "code",
      "metadata": {
        "id": "OheagsWq4BgK",
        "colab_type": "code",
        "colab": {
          "base_uri": "https://localhost:8080/",
          "height": 657
        },
        "outputId": "da81e600-ec2f-42b5-e710-2c0cf9e19a60"
      },
      "source": [
        "df"
      ],
      "execution_count": 13,
      "outputs": [
        {
          "output_type": "execute_result",
          "data": {
            "text/html": [
              "<div>\n",
              "<style scoped>\n",
              "    .dataframe tbody tr th:only-of-type {\n",
              "        vertical-align: middle;\n",
              "    }\n",
              "\n",
              "    .dataframe tbody tr th {\n",
              "        vertical-align: top;\n",
              "    }\n",
              "\n",
              "    .dataframe thead th {\n",
              "        text-align: right;\n",
              "    }\n",
              "</style>\n",
              "<table border=\"1\" class=\"dataframe\">\n",
              "  <thead>\n",
              "    <tr style=\"text-align: right;\">\n",
              "      <th></th>\n",
              "      <th>Adj. Open</th>\n",
              "      <th>Adj. High</th>\n",
              "      <th>Adj. Low</th>\n",
              "      <th>Adj. Close</th>\n",
              "      <th>Adj. Volume</th>\n",
              "      <th>HL_PCT</th>\n",
              "      <th>PCT_change</th>\n",
              "    </tr>\n",
              "    <tr>\n",
              "      <th>Date</th>\n",
              "      <th></th>\n",
              "      <th></th>\n",
              "      <th></th>\n",
              "      <th></th>\n",
              "      <th></th>\n",
              "      <th></th>\n",
              "      <th></th>\n",
              "    </tr>\n",
              "  </thead>\n",
              "  <tbody>\n",
              "    <tr>\n",
              "      <th>2004-08-19</th>\n",
              "      <td>50.159839</td>\n",
              "      <td>52.191109</td>\n",
              "      <td>48.128568</td>\n",
              "      <td>50.322842</td>\n",
              "      <td>44659000.0</td>\n",
              "      <td>3.712563</td>\n",
              "      <td>-3.724628</td>\n",
              "    </tr>\n",
              "    <tr>\n",
              "      <th>2004-08-20</th>\n",
              "      <td>50.661387</td>\n",
              "      <td>54.708881</td>\n",
              "      <td>50.405597</td>\n",
              "      <td>54.322689</td>\n",
              "      <td>22834300.0</td>\n",
              "      <td>0.710922</td>\n",
              "      <td>-0.762301</td>\n",
              "    </tr>\n",
              "    <tr>\n",
              "      <th>2004-08-23</th>\n",
              "      <td>55.551482</td>\n",
              "      <td>56.915693</td>\n",
              "      <td>54.693835</td>\n",
              "      <td>54.869377</td>\n",
              "      <td>18256100.0</td>\n",
              "      <td>3.729433</td>\n",
              "      <td>-3.683640</td>\n",
              "    </tr>\n",
              "    <tr>\n",
              "      <th>2004-08-24</th>\n",
              "      <td>55.792225</td>\n",
              "      <td>55.972783</td>\n",
              "      <td>51.945350</td>\n",
              "      <td>52.597363</td>\n",
              "      <td>15247300.0</td>\n",
              "      <td>6.417469</td>\n",
              "      <td>-6.049982</td>\n",
              "    </tr>\n",
              "    <tr>\n",
              "      <th>2004-08-25</th>\n",
              "      <td>52.542193</td>\n",
              "      <td>54.167209</td>\n",
              "      <td>52.100830</td>\n",
              "      <td>53.164113</td>\n",
              "      <td>9188600.0</td>\n",
              "      <td>1.886792</td>\n",
              "      <td>-1.909126</td>\n",
              "    </tr>\n",
              "    <tr>\n",
              "      <th>...</th>\n",
              "      <td>...</td>\n",
              "      <td>...</td>\n",
              "      <td>...</td>\n",
              "      <td>...</td>\n",
              "      <td>...</td>\n",
              "      <td>...</td>\n",
              "      <td>...</td>\n",
              "    </tr>\n",
              "    <tr>\n",
              "      <th>2018-03-21</th>\n",
              "      <td>1092.570000</td>\n",
              "      <td>1108.700000</td>\n",
              "      <td>1087.210000</td>\n",
              "      <td>1094.000000</td>\n",
              "      <td>1990515.0</td>\n",
              "      <td>1.343693</td>\n",
              "      <td>-1.345452</td>\n",
              "    </tr>\n",
              "    <tr>\n",
              "      <th>2018-03-22</th>\n",
              "      <td>1080.010000</td>\n",
              "      <td>1083.920000</td>\n",
              "      <td>1049.640000</td>\n",
              "      <td>1053.150000</td>\n",
              "      <td>3418154.0</td>\n",
              "      <td>2.921711</td>\n",
              "      <td>-2.849048</td>\n",
              "    </tr>\n",
              "    <tr>\n",
              "      <th>2018-03-23</th>\n",
              "      <td>1051.370000</td>\n",
              "      <td>1066.780000</td>\n",
              "      <td>1024.870000</td>\n",
              "      <td>1026.550000</td>\n",
              "      <td>2413517.0</td>\n",
              "      <td>3.918952</td>\n",
              "      <td>-3.826436</td>\n",
              "    </tr>\n",
              "    <tr>\n",
              "      <th>2018-03-26</th>\n",
              "      <td>1050.600000</td>\n",
              "      <td>1059.270000</td>\n",
              "      <td>1010.580000</td>\n",
              "      <td>1054.090000</td>\n",
              "      <td>3272409.0</td>\n",
              "      <td>0.491419</td>\n",
              "      <td>-0.493052</td>\n",
              "    </tr>\n",
              "    <tr>\n",
              "      <th>2018-03-27</th>\n",
              "      <td>1063.900000</td>\n",
              "      <td>1064.540000</td>\n",
              "      <td>997.620000</td>\n",
              "      <td>1006.940000</td>\n",
              "      <td>2940957.0</td>\n",
              "      <td>5.720301</td>\n",
              "      <td>-5.414043</td>\n",
              "    </tr>\n",
              "  </tbody>\n",
              "</table>\n",
              "<p>3424 rows × 7 columns</p>\n",
              "</div>"
            ],
            "text/plain": [
              "              Adj. Open    Adj. High  ...    HL_PCT  PCT_change\n",
              "Date                                  ...                      \n",
              "2004-08-19    50.159839    52.191109  ...  3.712563   -3.724628\n",
              "2004-08-20    50.661387    54.708881  ...  0.710922   -0.762301\n",
              "2004-08-23    55.551482    56.915693  ...  3.729433   -3.683640\n",
              "2004-08-24    55.792225    55.972783  ...  6.417469   -6.049982\n",
              "2004-08-25    52.542193    54.167209  ...  1.886792   -1.909126\n",
              "...                 ...          ...  ...       ...         ...\n",
              "2018-03-21  1092.570000  1108.700000  ...  1.343693   -1.345452\n",
              "2018-03-22  1080.010000  1083.920000  ...  2.921711   -2.849048\n",
              "2018-03-23  1051.370000  1066.780000  ...  3.918952   -3.826436\n",
              "2018-03-26  1050.600000  1059.270000  ...  0.491419   -0.493052\n",
              "2018-03-27  1063.900000  1064.540000  ...  5.720301   -5.414043\n",
              "\n",
              "[3424 rows x 7 columns]"
            ]
          },
          "metadata": {
            "tags": []
          },
          "execution_count": 13
        }
      ]
    },
    {
      "cell_type": "code",
      "metadata": {
        "id": "3ONVjypu4EiX",
        "colab_type": "code",
        "colab": {}
      },
      "source": [
        "df_new = df[['Adj. Close','HL_PCT','PCT_change','Adj. Volume']]"
      ],
      "execution_count": 0,
      "outputs": []
    },
    {
      "cell_type": "code",
      "metadata": {
        "id": "kayc_UsZ43gJ",
        "colab_type": "code",
        "colab": {
          "base_uri": "https://localhost:8080/",
          "height": 233
        },
        "outputId": "c9c8fd67-01d9-49d3-edcc-7e80dabc77c7"
      },
      "source": [
        "df_new.head()"
      ],
      "execution_count": 15,
      "outputs": [
        {
          "output_type": "execute_result",
          "data": {
            "text/html": [
              "<div>\n",
              "<style scoped>\n",
              "    .dataframe tbody tr th:only-of-type {\n",
              "        vertical-align: middle;\n",
              "    }\n",
              "\n",
              "    .dataframe tbody tr th {\n",
              "        vertical-align: top;\n",
              "    }\n",
              "\n",
              "    .dataframe thead th {\n",
              "        text-align: right;\n",
              "    }\n",
              "</style>\n",
              "<table border=\"1\" class=\"dataframe\">\n",
              "  <thead>\n",
              "    <tr style=\"text-align: right;\">\n",
              "      <th></th>\n",
              "      <th>Adj. Close</th>\n",
              "      <th>HL_PCT</th>\n",
              "      <th>PCT_change</th>\n",
              "      <th>Adj. Volume</th>\n",
              "    </tr>\n",
              "    <tr>\n",
              "      <th>Date</th>\n",
              "      <th></th>\n",
              "      <th></th>\n",
              "      <th></th>\n",
              "      <th></th>\n",
              "    </tr>\n",
              "  </thead>\n",
              "  <tbody>\n",
              "    <tr>\n",
              "      <th>2004-08-19</th>\n",
              "      <td>50.322842</td>\n",
              "      <td>3.712563</td>\n",
              "      <td>-3.724628</td>\n",
              "      <td>44659000.0</td>\n",
              "    </tr>\n",
              "    <tr>\n",
              "      <th>2004-08-20</th>\n",
              "      <td>54.322689</td>\n",
              "      <td>0.710922</td>\n",
              "      <td>-0.762301</td>\n",
              "      <td>22834300.0</td>\n",
              "    </tr>\n",
              "    <tr>\n",
              "      <th>2004-08-23</th>\n",
              "      <td>54.869377</td>\n",
              "      <td>3.729433</td>\n",
              "      <td>-3.683640</td>\n",
              "      <td>18256100.0</td>\n",
              "    </tr>\n",
              "    <tr>\n",
              "      <th>2004-08-24</th>\n",
              "      <td>52.597363</td>\n",
              "      <td>6.417469</td>\n",
              "      <td>-6.049982</td>\n",
              "      <td>15247300.0</td>\n",
              "    </tr>\n",
              "    <tr>\n",
              "      <th>2004-08-25</th>\n",
              "      <td>53.164113</td>\n",
              "      <td>1.886792</td>\n",
              "      <td>-1.909126</td>\n",
              "      <td>9188600.0</td>\n",
              "    </tr>\n",
              "  </tbody>\n",
              "</table>\n",
              "</div>"
            ],
            "text/plain": [
              "            Adj. Close    HL_PCT  PCT_change  Adj. Volume\n",
              "Date                                                     \n",
              "2004-08-19   50.322842  3.712563   -3.724628   44659000.0\n",
              "2004-08-20   54.322689  0.710922   -0.762301   22834300.0\n",
              "2004-08-23   54.869377  3.729433   -3.683640   18256100.0\n",
              "2004-08-24   52.597363  6.417469   -6.049982   15247300.0\n",
              "2004-08-25   53.164113  1.886792   -1.909126    9188600.0"
            ]
          },
          "metadata": {
            "tags": []
          },
          "execution_count": 15
        }
      ]
    },
    {
      "cell_type": "code",
      "metadata": {
        "id": "NJo2GcBH4_zF",
        "colab_type": "code",
        "colab": {}
      },
      "source": [
        "forecast_col = 'Adj. Close'\n",
        "df.fillna(-99999, inplace=True)\n"
      ],
      "execution_count": 0,
      "outputs": []
    },
    {
      "cell_type": "code",
      "metadata": {
        "id": "SF0PPI05HUXI",
        "colab_type": "code",
        "colab": {
          "base_uri": "https://localhost:8080/",
          "height": 141
        },
        "outputId": "6189a11a-b74b-480f-db7d-7b33c108eda3"
      },
      "source": [
        "import math\n",
        "forecast_out = int(math.ceil(0.01*len(df)))\n",
        "df_new['label'] = df_new[forecast_col].shift(-forecast_out)"
      ],
      "execution_count": 17,
      "outputs": [
        {
          "output_type": "stream",
          "text": [
            "/usr/local/lib/python3.6/dist-packages/ipykernel_launcher.py:3: SettingWithCopyWarning: \n",
            "A value is trying to be set on a copy of a slice from a DataFrame.\n",
            "Try using .loc[row_indexer,col_indexer] = value instead\n",
            "\n",
            "See the caveats in the documentation: https://pandas.pydata.org/pandas-docs/stable/user_guide/indexing.html#returning-a-view-versus-a-copy\n",
            "  This is separate from the ipykernel package so we can avoid doing imports until\n"
          ],
          "name": "stderr"
        }
      ]
    },
    {
      "cell_type": "code",
      "metadata": {
        "id": "Y9v1O6VQHcZY",
        "colab_type": "code",
        "colab": {}
      },
      "source": [
        ""
      ],
      "execution_count": 0,
      "outputs": []
    },
    {
      "cell_type": "code",
      "metadata": {
        "id": "s53ne0VcHXr_",
        "colab_type": "code",
        "colab": {
          "base_uri": "https://localhost:8080/",
          "height": 446
        },
        "outputId": "2d64035b-1167-496c-b207-b158c835598e"
      },
      "source": [
        "df_new"
      ],
      "execution_count": 18,
      "outputs": [
        {
          "output_type": "execute_result",
          "data": {
            "text/html": [
              "<div>\n",
              "<style scoped>\n",
              "    .dataframe tbody tr th:only-of-type {\n",
              "        vertical-align: middle;\n",
              "    }\n",
              "\n",
              "    .dataframe tbody tr th {\n",
              "        vertical-align: top;\n",
              "    }\n",
              "\n",
              "    .dataframe thead th {\n",
              "        text-align: right;\n",
              "    }\n",
              "</style>\n",
              "<table border=\"1\" class=\"dataframe\">\n",
              "  <thead>\n",
              "    <tr style=\"text-align: right;\">\n",
              "      <th></th>\n",
              "      <th>Adj. Close</th>\n",
              "      <th>HL_PCT</th>\n",
              "      <th>PCT_change</th>\n",
              "      <th>Adj. Volume</th>\n",
              "      <th>label</th>\n",
              "    </tr>\n",
              "    <tr>\n",
              "      <th>Date</th>\n",
              "      <th></th>\n",
              "      <th></th>\n",
              "      <th></th>\n",
              "      <th></th>\n",
              "      <th></th>\n",
              "    </tr>\n",
              "  </thead>\n",
              "  <tbody>\n",
              "    <tr>\n",
              "      <th>2004-08-19</th>\n",
              "      <td>50.322842</td>\n",
              "      <td>3.712563</td>\n",
              "      <td>-3.724628</td>\n",
              "      <td>44659000.0</td>\n",
              "      <td>69.078238</td>\n",
              "    </tr>\n",
              "    <tr>\n",
              "      <th>2004-08-20</th>\n",
              "      <td>54.322689</td>\n",
              "      <td>0.710922</td>\n",
              "      <td>-0.762301</td>\n",
              "      <td>22834300.0</td>\n",
              "      <td>67.839414</td>\n",
              "    </tr>\n",
              "    <tr>\n",
              "      <th>2004-08-23</th>\n",
              "      <td>54.869377</td>\n",
              "      <td>3.729433</td>\n",
              "      <td>-3.683640</td>\n",
              "      <td>18256100.0</td>\n",
              "      <td>68.912727</td>\n",
              "    </tr>\n",
              "    <tr>\n",
              "      <th>2004-08-24</th>\n",
              "      <td>52.597363</td>\n",
              "      <td>6.417469</td>\n",
              "      <td>-6.049982</td>\n",
              "      <td>15247300.0</td>\n",
              "      <td>70.668146</td>\n",
              "    </tr>\n",
              "    <tr>\n",
              "      <th>2004-08-25</th>\n",
              "      <td>53.164113</td>\n",
              "      <td>1.886792</td>\n",
              "      <td>-1.909126</td>\n",
              "      <td>9188600.0</td>\n",
              "      <td>71.219849</td>\n",
              "    </tr>\n",
              "    <tr>\n",
              "      <th>...</th>\n",
              "      <td>...</td>\n",
              "      <td>...</td>\n",
              "      <td>...</td>\n",
              "      <td>...</td>\n",
              "      <td>...</td>\n",
              "    </tr>\n",
              "    <tr>\n",
              "      <th>2018-03-21</th>\n",
              "      <td>1094.000000</td>\n",
              "      <td>1.343693</td>\n",
              "      <td>-1.345452</td>\n",
              "      <td>1990515.0</td>\n",
              "      <td>NaN</td>\n",
              "    </tr>\n",
              "    <tr>\n",
              "      <th>2018-03-22</th>\n",
              "      <td>1053.150000</td>\n",
              "      <td>2.921711</td>\n",
              "      <td>-2.849048</td>\n",
              "      <td>3418154.0</td>\n",
              "      <td>NaN</td>\n",
              "    </tr>\n",
              "    <tr>\n",
              "      <th>2018-03-23</th>\n",
              "      <td>1026.550000</td>\n",
              "      <td>3.918952</td>\n",
              "      <td>-3.826436</td>\n",
              "      <td>2413517.0</td>\n",
              "      <td>NaN</td>\n",
              "    </tr>\n",
              "    <tr>\n",
              "      <th>2018-03-26</th>\n",
              "      <td>1054.090000</td>\n",
              "      <td>0.491419</td>\n",
              "      <td>-0.493052</td>\n",
              "      <td>3272409.0</td>\n",
              "      <td>NaN</td>\n",
              "    </tr>\n",
              "    <tr>\n",
              "      <th>2018-03-27</th>\n",
              "      <td>1006.940000</td>\n",
              "      <td>5.720301</td>\n",
              "      <td>-5.414043</td>\n",
              "      <td>2940957.0</td>\n",
              "      <td>NaN</td>\n",
              "    </tr>\n",
              "  </tbody>\n",
              "</table>\n",
              "<p>3424 rows × 5 columns</p>\n",
              "</div>"
            ],
            "text/plain": [
              "             Adj. Close    HL_PCT  PCT_change  Adj. Volume      label\n",
              "Date                                                                 \n",
              "2004-08-19    50.322842  3.712563   -3.724628   44659000.0  69.078238\n",
              "2004-08-20    54.322689  0.710922   -0.762301   22834300.0  67.839414\n",
              "2004-08-23    54.869377  3.729433   -3.683640   18256100.0  68.912727\n",
              "2004-08-24    52.597363  6.417469   -6.049982   15247300.0  70.668146\n",
              "2004-08-25    53.164113  1.886792   -1.909126    9188600.0  71.219849\n",
              "...                 ...       ...         ...          ...        ...\n",
              "2018-03-21  1094.000000  1.343693   -1.345452    1990515.0        NaN\n",
              "2018-03-22  1053.150000  2.921711   -2.849048    3418154.0        NaN\n",
              "2018-03-23  1026.550000  3.918952   -3.826436    2413517.0        NaN\n",
              "2018-03-26  1054.090000  0.491419   -0.493052    3272409.0        NaN\n",
              "2018-03-27  1006.940000  5.720301   -5.414043    2940957.0        NaN\n",
              "\n",
              "[3424 rows x 5 columns]"
            ]
          },
          "metadata": {
            "tags": []
          },
          "execution_count": 18
        }
      ]
    },
    {
      "cell_type": "code",
      "metadata": {
        "id": "Vi9mmOC7YaVE",
        "colab_type": "code",
        "colab": {
          "base_uri": "https://localhost:8080/",
          "height": 446
        },
        "outputId": "940305a2-ad37-4c20-d8bb-dc04df06c984"
      },
      "source": [
        "df_new.tail(90)"
      ],
      "execution_count": 19,
      "outputs": [
        {
          "output_type": "execute_result",
          "data": {
            "text/html": [
              "<div>\n",
              "<style scoped>\n",
              "    .dataframe tbody tr th:only-of-type {\n",
              "        vertical-align: middle;\n",
              "    }\n",
              "\n",
              "    .dataframe tbody tr th {\n",
              "        vertical-align: top;\n",
              "    }\n",
              "\n",
              "    .dataframe thead th {\n",
              "        text-align: right;\n",
              "    }\n",
              "</style>\n",
              "<table border=\"1\" class=\"dataframe\">\n",
              "  <thead>\n",
              "    <tr style=\"text-align: right;\">\n",
              "      <th></th>\n",
              "      <th>Adj. Close</th>\n",
              "      <th>HL_PCT</th>\n",
              "      <th>PCT_change</th>\n",
              "      <th>Adj. Volume</th>\n",
              "      <th>label</th>\n",
              "    </tr>\n",
              "    <tr>\n",
              "      <th>Date</th>\n",
              "      <th></th>\n",
              "      <th></th>\n",
              "      <th></th>\n",
              "      <th></th>\n",
              "      <th></th>\n",
              "    </tr>\n",
              "  </thead>\n",
              "  <tbody>\n",
              "    <tr>\n",
              "      <th>2017-11-15</th>\n",
              "      <td>1036.41</td>\n",
              "      <td>0.310688</td>\n",
              "      <td>-0.311111</td>\n",
              "      <td>900695.0</td>\n",
              "      <td>1114.21</td>\n",
              "    </tr>\n",
              "    <tr>\n",
              "      <th>2017-11-16</th>\n",
              "      <td>1048.47</td>\n",
              "      <td>0.313791</td>\n",
              "      <td>-0.316727</td>\n",
              "      <td>1125995.0</td>\n",
              "      <td>1112.79</td>\n",
              "    </tr>\n",
              "    <tr>\n",
              "      <th>2017-11-17</th>\n",
              "      <td>1035.89</td>\n",
              "      <td>1.458649</td>\n",
              "      <td>-1.439322</td>\n",
              "      <td>1286044.0</td>\n",
              "      <td>1110.14</td>\n",
              "    </tr>\n",
              "    <tr>\n",
              "      <th>2017-11-20</th>\n",
              "      <td>1034.66</td>\n",
              "      <td>0.390466</td>\n",
              "      <td>-0.389961</td>\n",
              "      <td>850423.0</td>\n",
              "      <td>1111.88</td>\n",
              "    </tr>\n",
              "    <tr>\n",
              "      <th>2017-11-21</th>\n",
              "      <td>1050.30</td>\n",
              "      <td>0.008569</td>\n",
              "      <td>-0.008654</td>\n",
              "      <td>1075568.0</td>\n",
              "      <td>1130.65</td>\n",
              "    </tr>\n",
              "    <tr>\n",
              "      <th>...</th>\n",
              "      <td>...</td>\n",
              "      <td>...</td>\n",
              "      <td>...</td>\n",
              "      <td>...</td>\n",
              "      <td>...</td>\n",
              "    </tr>\n",
              "    <tr>\n",
              "      <th>2018-03-21</th>\n",
              "      <td>1094.00</td>\n",
              "      <td>1.343693</td>\n",
              "      <td>-1.345452</td>\n",
              "      <td>1990515.0</td>\n",
              "      <td>NaN</td>\n",
              "    </tr>\n",
              "    <tr>\n",
              "      <th>2018-03-22</th>\n",
              "      <td>1053.15</td>\n",
              "      <td>2.921711</td>\n",
              "      <td>-2.849048</td>\n",
              "      <td>3418154.0</td>\n",
              "      <td>NaN</td>\n",
              "    </tr>\n",
              "    <tr>\n",
              "      <th>2018-03-23</th>\n",
              "      <td>1026.55</td>\n",
              "      <td>3.918952</td>\n",
              "      <td>-3.826436</td>\n",
              "      <td>2413517.0</td>\n",
              "      <td>NaN</td>\n",
              "    </tr>\n",
              "    <tr>\n",
              "      <th>2018-03-26</th>\n",
              "      <td>1054.09</td>\n",
              "      <td>0.491419</td>\n",
              "      <td>-0.493052</td>\n",
              "      <td>3272409.0</td>\n",
              "      <td>NaN</td>\n",
              "    </tr>\n",
              "    <tr>\n",
              "      <th>2018-03-27</th>\n",
              "      <td>1006.94</td>\n",
              "      <td>5.720301</td>\n",
              "      <td>-5.414043</td>\n",
              "      <td>2940957.0</td>\n",
              "      <td>NaN</td>\n",
              "    </tr>\n",
              "  </tbody>\n",
              "</table>\n",
              "<p>90 rows × 5 columns</p>\n",
              "</div>"
            ],
            "text/plain": [
              "            Adj. Close    HL_PCT  PCT_change  Adj. Volume    label\n",
              "Date                                                              \n",
              "2017-11-15     1036.41  0.310688   -0.311111     900695.0  1114.21\n",
              "2017-11-16     1048.47  0.313791   -0.316727    1125995.0  1112.79\n",
              "2017-11-17     1035.89  1.458649   -1.439322    1286044.0  1110.14\n",
              "2017-11-20     1034.66  0.390466   -0.389961     850423.0  1111.88\n",
              "2017-11-21     1050.30  0.008569   -0.008654    1075568.0  1130.65\n",
              "...                ...       ...         ...          ...      ...\n",
              "2018-03-21     1094.00  1.343693   -1.345452    1990515.0      NaN\n",
              "2018-03-22     1053.15  2.921711   -2.849048    3418154.0      NaN\n",
              "2018-03-23     1026.55  3.918952   -3.826436    2413517.0      NaN\n",
              "2018-03-26     1054.09  0.491419   -0.493052    3272409.0      NaN\n",
              "2018-03-27     1006.94  5.720301   -5.414043    2940957.0      NaN\n",
              "\n",
              "[90 rows x 5 columns]"
            ]
          },
          "metadata": {
            "tags": []
          },
          "execution_count": 19
        }
      ]
    },
    {
      "cell_type": "code",
      "metadata": {
        "id": "B25MrEe5Orxr",
        "colab_type": "code",
        "colab": {
          "base_uri": "https://localhost:8080/",
          "height": 124
        },
        "outputId": "5a811ff4-e7bd-4393-8246-cc4df5d7ac14"
      },
      "source": [
        "df_new.dropna(inplace=True)"
      ],
      "execution_count": 20,
      "outputs": [
        {
          "output_type": "stream",
          "text": [
            "/usr/local/lib/python3.6/dist-packages/ipykernel_launcher.py:1: SettingWithCopyWarning: \n",
            "A value is trying to be set on a copy of a slice from a DataFrame\n",
            "\n",
            "See the caveats in the documentation: https://pandas.pydata.org/pandas-docs/stable/user_guide/indexing.html#returning-a-view-versus-a-copy\n",
            "  \"\"\"Entry point for launching an IPython kernel.\n"
          ],
          "name": "stderr"
        }
      ]
    },
    {
      "cell_type": "code",
      "metadata": {
        "id": "3a7L8ilAYWQ4",
        "colab_type": "code",
        "colab": {
          "base_uri": "https://localhost:8080/",
          "height": 233
        },
        "outputId": "733c6684-89ff-475e-da12-6748a1fd0f5d"
      },
      "source": [
        "df_new.tail()"
      ],
      "execution_count": 21,
      "outputs": [
        {
          "output_type": "execute_result",
          "data": {
            "text/html": [
              "<div>\n",
              "<style scoped>\n",
              "    .dataframe tbody tr th:only-of-type {\n",
              "        vertical-align: middle;\n",
              "    }\n",
              "\n",
              "    .dataframe tbody tr th {\n",
              "        vertical-align: top;\n",
              "    }\n",
              "\n",
              "    .dataframe thead th {\n",
              "        text-align: right;\n",
              "    }\n",
              "</style>\n",
              "<table border=\"1\" class=\"dataframe\">\n",
              "  <thead>\n",
              "    <tr style=\"text-align: right;\">\n",
              "      <th></th>\n",
              "      <th>Adj. Close</th>\n",
              "      <th>HL_PCT</th>\n",
              "      <th>PCT_change</th>\n",
              "      <th>Adj. Volume</th>\n",
              "      <th>label</th>\n",
              "    </tr>\n",
              "    <tr>\n",
              "      <th>Date</th>\n",
              "      <th></th>\n",
              "      <th></th>\n",
              "      <th></th>\n",
              "      <th></th>\n",
              "      <th></th>\n",
              "    </tr>\n",
              "  </thead>\n",
              "  <tbody>\n",
              "    <tr>\n",
              "      <th>2018-01-30</th>\n",
              "      <td>1177.37</td>\n",
              "      <td>0.896914</td>\n",
              "      <td>-0.896648</td>\n",
              "      <td>1792602.0</td>\n",
              "      <td>1094.00</td>\n",
              "    </tr>\n",
              "    <tr>\n",
              "      <th>2018-01-31</th>\n",
              "      <td>1182.22</td>\n",
              "      <td>0.346805</td>\n",
              "      <td>-0.346339</td>\n",
              "      <td>1643877.0</td>\n",
              "      <td>1053.15</td>\n",
              "    </tr>\n",
              "    <tr>\n",
              "      <th>2018-02-01</th>\n",
              "      <td>1181.59</td>\n",
              "      <td>0.495942</td>\n",
              "      <td>-0.498304</td>\n",
              "      <td>2774967.0</td>\n",
              "      <td>1026.55</td>\n",
              "    </tr>\n",
              "    <tr>\n",
              "      <th>2018-02-02</th>\n",
              "      <td>1119.20</td>\n",
              "      <td>1.081129</td>\n",
              "      <td>-1.073247</td>\n",
              "      <td>5798880.0</td>\n",
              "      <td>1054.09</td>\n",
              "    </tr>\n",
              "    <tr>\n",
              "      <th>2018-02-05</th>\n",
              "      <td>1068.76</td>\n",
              "      <td>4.325574</td>\n",
              "      <td>-4.200398</td>\n",
              "      <td>3742469.0</td>\n",
              "      <td>1006.94</td>\n",
              "    </tr>\n",
              "  </tbody>\n",
              "</table>\n",
              "</div>"
            ],
            "text/plain": [
              "            Adj. Close    HL_PCT  PCT_change  Adj. Volume    label\n",
              "Date                                                              \n",
              "2018-01-30     1177.37  0.896914   -0.896648    1792602.0  1094.00\n",
              "2018-01-31     1182.22  0.346805   -0.346339    1643877.0  1053.15\n",
              "2018-02-01     1181.59  0.495942   -0.498304    2774967.0  1026.55\n",
              "2018-02-02     1119.20  1.081129   -1.073247    5798880.0  1054.09\n",
              "2018-02-05     1068.76  4.325574   -4.200398    3742469.0  1006.94"
            ]
          },
          "metadata": {
            "tags": []
          },
          "execution_count": 21
        }
      ]
    },
    {
      "cell_type": "code",
      "metadata": {
        "id": "KSsYlVobZErX",
        "colab_type": "code",
        "colab": {
          "base_uri": "https://localhost:8080/",
          "height": 124
        },
        "outputId": "ed871f4d-687d-482e-a36c-992be74bf502"
      },
      "source": [
        "!pip install sklearn\n",
        "import numpy as np\n",
        "from sklearn import preprocessing,model_selection, svm \n",
        "from sklearn.linear_model import LinearRegression"
      ],
      "execution_count": 22,
      "outputs": [
        {
          "output_type": "stream",
          "text": [
            "Requirement already satisfied: sklearn in /usr/local/lib/python3.6/dist-packages (0.0)\n",
            "Requirement already satisfied: scikit-learn in /usr/local/lib/python3.6/dist-packages (from sklearn) (0.22.2.post1)\n",
            "Requirement already satisfied: numpy>=1.11.0 in /usr/local/lib/python3.6/dist-packages (from scikit-learn->sklearn) (1.18.4)\n",
            "Requirement already satisfied: joblib>=0.11 in /usr/local/lib/python3.6/dist-packages (from scikit-learn->sklearn) (0.14.1)\n",
            "Requirement already satisfied: scipy>=0.17.0 in /usr/local/lib/python3.6/dist-packages (from scikit-learn->sklearn) (1.4.1)\n"
          ],
          "name": "stdout"
        }
      ]
    },
    {
      "cell_type": "code",
      "metadata": {
        "id": "7RzNz0n0sr-t",
        "colab_type": "code",
        "colab": {
          "base_uri": "https://localhost:8080/",
          "height": 139
        },
        "outputId": "56c1aced-6023-4298-ae75-bece238db1cb"
      },
      "source": [
        "X = np.array(df_new.drop([\"label\"],axis=1))# Features\n",
        "y = np.array(df_new[\"label\"])# label\n",
        "\n",
        "X = preprocessing.scale(X)\n",
        "X"
      ],
      "execution_count": 23,
      "outputs": [
        {
          "output_type": "execute_result",
          "data": {
            "text/plain": [
              "array([[-1.41006544,  2.35025798, -2.45950518,  4.44790502],\n",
              "       [-1.39402696, -0.30866295,  0.26166508,  1.80881376],\n",
              "       [-1.39183486,  2.36520212, -2.42185463,  1.25520764],\n",
              "       ...,\n",
              "       [ 3.12606095, -0.49909747,  0.50417085, -0.61680539],\n",
              "       [ 2.87589111,  0.01927479, -0.0239676 , -0.25114711],\n",
              "       [ 2.67363808,  2.89327664, -2.89654418, -0.4998129 ]])"
            ]
          },
          "metadata": {
            "tags": []
          },
          "execution_count": 23
        }
      ]
    },
    {
      "cell_type": "code",
      "metadata": {
        "id": "rPryV90ltZJU",
        "colab_type": "code",
        "colab": {
          "base_uri": "https://localhost:8080/",
          "height": 124
        },
        "outputId": "b519b46d-ac76-413a-9fb3-18a687f09c1c"
      },
      "source": [
        "# X = X[:-forecast_out+1]\n",
        "df_new.dropna(inplace=True)"
      ],
      "execution_count": 24,
      "outputs": [
        {
          "output_type": "stream",
          "text": [
            "/usr/local/lib/python3.6/dist-packages/ipykernel_launcher.py:2: SettingWithCopyWarning: \n",
            "A value is trying to be set on a copy of a slice from a DataFrame\n",
            "\n",
            "See the caveats in the documentation: https://pandas.pydata.org/pandas-docs/stable/user_guide/indexing.html#returning-a-view-versus-a-copy\n",
            "  \n"
          ],
          "name": "stderr"
        }
      ]
    },
    {
      "cell_type": "code",
      "metadata": {
        "id": "O24j_aljyJAe",
        "colab_type": "code",
        "colab": {}
      },
      "source": [
        "y = np.array(df_new[\"label\"])"
      ],
      "execution_count": 0,
      "outputs": []
    },
    {
      "cell_type": "code",
      "metadata": {
        "id": "4nWjgL-bzCru",
        "colab_type": "code",
        "colab": {
          "base_uri": "https://localhost:8080/",
          "height": 35
        },
        "outputId": "4b62a0d3-fe47-42b4-90a1-c840293ece97"
      },
      "source": [
        "len(X)"
      ],
      "execution_count": 26,
      "outputs": [
        {
          "output_type": "execute_result",
          "data": {
            "text/plain": [
              "3389"
            ]
          },
          "metadata": {
            "tags": []
          },
          "execution_count": 26
        }
      ]
    },
    {
      "cell_type": "code",
      "metadata": {
        "id": "M3eWhpXmzEF9",
        "colab_type": "code",
        "colab": {
          "base_uri": "https://localhost:8080/",
          "height": 35
        },
        "outputId": "c7187273-7cb6-4942-ca17-4678ee348ffd"
      },
      "source": [
        "len(y)"
      ],
      "execution_count": 27,
      "outputs": [
        {
          "output_type": "execute_result",
          "data": {
            "text/plain": [
              "3389"
            ]
          },
          "metadata": {
            "tags": []
          },
          "execution_count": 27
        }
      ]
    },
    {
      "cell_type": "code",
      "metadata": {
        "id": "MmNbvdBRzHSO",
        "colab_type": "code",
        "colab": {}
      },
      "source": [
        "X_train,X_test,y_train,y_test = model_selection.train_test_split(X,y,\n",
        "                                                                 test_size=0.3,\n",
        "                                                                random_state=1)"
      ],
      "execution_count": 0,
      "outputs": []
    },
    {
      "cell_type": "code",
      "metadata": {
        "id": "KkAScbXm5Hqi",
        "colab_type": "code",
        "colab": {}
      },
      "source": [
        "clf = LinearRegression()\n",
        "clf.fit(X_train,y_train)\n",
        "accuracy = clf.score(X_test,y_test)"
      ],
      "execution_count": 0,
      "outputs": []
    },
    {
      "cell_type": "code",
      "metadata": {
        "id": "Qm6awlerBupC",
        "colab_type": "code",
        "colab": {
          "base_uri": "https://localhost:8080/",
          "height": 35
        },
        "outputId": "33150185-0daa-484f-b38e-412e22eabeaa"
      },
      "source": [
        "print(accuracy)"
      ],
      "execution_count": 30,
      "outputs": [
        {
          "output_type": "stream",
          "text": [
            "0.9764698866171294\n"
          ],
          "name": "stdout"
        }
      ]
    },
    {
      "cell_type": "code",
      "metadata": {
        "id": "oulJAL07DGrU",
        "colab_type": "code",
        "colab": {
          "base_uri": "https://localhost:8080/",
          "height": 35
        },
        "outputId": "096736b9-8c27-47d4-efcd-3f3098f4ebac"
      },
      "source": [
        "clf = LinearRegression(n_jobs=10)# n_jpbs how many runs we're going to dp\n",
        "clf.fit(X_train,y_train)\n",
        "accuracy = clf.score(X_test,y_test)\n",
        "print(accuracy)"
      ],
      "execution_count": 31,
      "outputs": [
        {
          "output_type": "stream",
          "text": [
            "0.9764698866171294\n"
          ],
          "name": "stdout"
        }
      ]
    },
    {
      "cell_type": "code",
      "metadata": {
        "id": "1o_YXErIBw8_",
        "colab_type": "code",
        "colab": {
          "base_uri": "https://localhost:8080/",
          "height": 35
        },
        "outputId": "91f6433c-bfde-4eb3-9c14-25f5a290f041"
      },
      "source": [
        "# Support Vector Regressor\n",
        "clf = svm.SVR()\n",
        "clf.fit(X_train,y_train)\n",
        "accuracy = clf.score(X_test,y_test)\n",
        "print(accuracy)"
      ],
      "execution_count": 32,
      "outputs": [
        {
          "output_type": "stream",
          "text": [
            "0.7915581406167476\n"
          ],
          "name": "stdout"
        }
      ]
    },
    {
      "cell_type": "code",
      "metadata": {
        "id": "1vv2FdigCSt1",
        "colab_type": "code",
        "colab": {
          "base_uri": "https://localhost:8080/",
          "height": 35
        },
        "outputId": "b1231497-16cb-4de5-8334-81d61d5e2a71"
      },
      "source": [
        "clf = svm.SVR(kernel=\"poly\")\n",
        "clf.fit(X_train,y_train)\n",
        "accuracy = clf.score(X_test,y_test)\n",
        "print(accuracy)"
      ],
      "execution_count": 33,
      "outputs": [
        {
          "output_type": "stream",
          "text": [
            "0.6184140918015137\n"
          ],
          "name": "stdout"
        }
      ]
    },
    {
      "cell_type": "markdown",
      "metadata": {
        "id": "tnIr4gDUD4z3",
        "colab_type": "text"
      },
      "source": [
        "## Working on  Unknown Data\n",
        "\n",
        "```\n",
        "# This is formatted as code\n",
        "```\n",
        "\n"
      ]
    },
    {
      "cell_type": "code",
      "metadata": {
        "id": "5E6BBfNfUaf3",
        "colab_type": "code",
        "colab": {}
      },
      "source": [
        "import pickle"
      ],
      "execution_count": 0,
      "outputs": []
    },
    {
      "cell_type": "code",
      "metadata": {
        "id": "lhQaorAECuy1",
        "colab_type": "code",
        "colab": {}
      },
      "source": [
        "\n",
        "with open(\"linearregression.pickle\",\"wb\") as f:\n",
        "  pickle.dump(clf,f)\n",
        "\n",
        "pickle_in = open(\"linearregression.pickle\",\"rb\")\n",
        "clf = pickle.load(pickle_in)"
      ],
      "execution_count": 0,
      "outputs": []
    },
    {
      "cell_type": "markdown",
      "metadata": {
        "id": "9NBtXA7hXzHe",
        "colab_type": "text"
      },
      "source": [
        "# To find best fit line\n",
        "\n",
        "Equation of Line is:\n",
        "y = mx+b\n",
        "Where m = slope of line & b= y-intercept\n",
        "\n",
        "m(slope)= ((mean(x) * mean(y))-mean(x * y))/\n",
        "          ((mean(x) ** 2)-(mean(x ** 2)))\n",
        "\n",
        "b(y-intercept) = mean(y)-(m*mean(x))"
      ]
    },
    {
      "cell_type": "code",
      "metadata": {
        "id": "ZpSttQI3mnx_",
        "colab_type": "code",
        "colab": {
          "base_uri": "https://localhost:8080/",
          "height": 283
        },
        "outputId": "19dc90a3-8a82-4570-bb6a-05a4d558914c"
      },
      "source": [
        "# Implementing Simple Linear regression From scratch\n",
        "from statistics import mean\n",
        "import numpy as np\n",
        "import matplotlib.pyplot as plt\n",
        "from matplotlib import style\n",
        "\n",
        "style.use(\"ggplot\")\n",
        "x = np.array([1,2,3,4,5,6],dtype=np.float64)\n",
        "y = np.array([5,4,6,5,6,7],dtype=np.float64)\n",
        "plt.scatter(x,y)\n",
        "plt.show();\n",
        "\n",
        "def best_fit_slope_and_intercept(x,y):\n",
        "  m = (mean(x)*mean(y)-mean(x*y))/((mean(x)**2)-mean(x**2))\n",
        "\n",
        "  b = (mean(y) - (m*(mean(x))))\n",
        "  return m,b\n",
        "\n",
        "m,b = best_fit_slope_and_intercept(x,y)\n",
        "print(m,b)"
      ],
      "execution_count": 36,
      "outputs": [
        {
          "output_type": "display_data",
          "data": {
            "image/png": "[encoded data removed]",
            "text/plain": [
              "<Figure size 432x288 with 1 Axes>"
            ]
          },
          "metadata": {
            "tags": []
          }
        },
        {
          "output_type": "stream",
          "text": [
            "0.42857142857142866 4.0\n"
          ],
          "name": "stdout"
        }
      ]
    },
    {
      "cell_type": "code",
      "metadata": {
        "id": "yEaF1R3RbOih",
        "colab_type": "code",
        "colab": {
          "base_uri": "https://localhost:8080/",
          "height": 282
        },
        "outputId": "b4a555d3-b578-400d-ce8a-05b1b4c6635c"
      },
      "source": [
        "style.use(\"fivethirtyeight\")\n",
        "regression_line = [(m*x)+b for x in x]\n",
        "xs = 0# Predicting the value of y if x is 0\n",
        "ys = m*xs+b\n",
        "plt.plot(x,regression_line)\n",
        "plt.scatter(xs,ys)\n",
        "plt.scatter(x,y)\n",
        "# plt.xlim(0)\n",
        "# plt.ylim(0)\n",
        "plt.show()"
      ],
      "execution_count": 37,
      "outputs": [
        {
          "output_type": "display_data",
          "data": {
            "image/png": "[encoded data removed]",
            "text/plain": [
              "<Figure size 432x288 with 1 Axes>"
            ]
          },
          "metadata": {
            "tags": []
          }
        }
      ]
    },
    {
      "cell_type": "markdown",
      "metadata": {
        "id": "_2miDucMzR7i",
        "colab_type": "text"
      },
      "source": [
        "# Mean squared Error\n",
        "r**2 = 1-(se(ycap)/se(ymean)) "
      ]
    },
    {
      "cell_type": "code",
      "metadata": {
        "id": "MKssq-Lzg1xP",
        "colab_type": "code",
        "colab": {}
      },
      "source": [
        "def squared_error(ys_orig,ys_line):\n",
        "  return sum((ys_line-ys_orig)**2)\n",
        "\n",
        "def coefficient_of_determination(ys_orig,ys_line):\n",
        "  y_mean_line = [mean(ys_orig) for y in ys_orig]\n",
        "  squared_error_regr = squared_error(ys_orig,ys_line)\n",
        "  squared_error_y_mean = squared_error(ys_orig,y_mean_line)\n",
        "  return 1-(squared_error_regr/squared_error_y_mean)"
      ],
      "execution_count": 0,
      "outputs": []
    },
    {
      "cell_type": "code",
      "metadata": {
        "id": "9-ZDQ8HA3fDZ",
        "colab_type": "code",
        "colab": {
          "base_uri": "https://localhost:8080/",
          "height": 35
        },
        "outputId": "1838abcf-1230-4a22-b2ee-03a0477ca0ab"
      },
      "source": [
        "r_squared = coefficient_of_determination(y,regression_line)\n",
        "print(round(r_squared,2))"
      ],
      "execution_count": 39,
      "outputs": [
        {
          "output_type": "stream",
          "text": [
            "0.58\n"
          ],
          "name": "stdout"
        }
      ]
    },
    {
      "cell_type": "code",
      "metadata": {
        "id": "iAOYSpQduEFl",
        "colab_type": "code",
        "colab": {}
      },
      "source": [
        ""
      ],
      "execution_count": 0,
      "outputs": []
    }
  ]
}